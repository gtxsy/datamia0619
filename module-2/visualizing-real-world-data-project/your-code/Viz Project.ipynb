{
 "cells": [
  {
   "cell_type": "code",
   "execution_count": 1,
   "metadata": {},
   "outputs": [
    {
     "data": {
      "text/html": [
       "<div>\n",
       "<style scoped>\n",
       "    .dataframe tbody tr th:only-of-type {\n",
       "        vertical-align: middle;\n",
       "    }\n",
       "\n",
       "    .dataframe tbody tr th {\n",
       "        vertical-align: top;\n",
       "    }\n",
       "\n",
       "    .dataframe thead th {\n",
       "        text-align: right;\n",
       "    }\n",
       "</style>\n",
       "<table border=\"1\" class=\"dataframe\">\n",
       "  <thead>\n",
       "    <tr style=\"text-align: right;\">\n",
       "      <th></th>\n",
       "      <th>metascore</th>\n",
       "      <th>name</th>\n",
       "      <th>console</th>\n",
       "      <th>userscore</th>\n",
       "      <th>date</th>\n",
       "    </tr>\n",
       "  </thead>\n",
       "  <tbody>\n",
       "    <tr>\n",
       "      <th>0</th>\n",
       "      <td>97</td>\n",
       "      <td>Grand Theft Auto V</td>\n",
       "      <td>PS3</td>\n",
       "      <td>8.3</td>\n",
       "      <td>Sep 17, 2013</td>\n",
       "    </tr>\n",
       "    <tr>\n",
       "      <th>1</th>\n",
       "      <td>97</td>\n",
       "      <td>Grand Theft Auto V</td>\n",
       "      <td>X360</td>\n",
       "      <td>8.3</td>\n",
       "      <td>Sep 17, 2013</td>\n",
       "    </tr>\n",
       "    <tr>\n",
       "      <th>2</th>\n",
       "      <td>95</td>\n",
       "      <td>The Last of Us</td>\n",
       "      <td>PS3</td>\n",
       "      <td>9.2</td>\n",
       "      <td>Jun 14, 2013</td>\n",
       "    </tr>\n",
       "    <tr>\n",
       "      <th>3</th>\n",
       "      <td>94</td>\n",
       "      <td>BioShock Infinite</td>\n",
       "      <td>PS3</td>\n",
       "      <td>8.5</td>\n",
       "      <td>Mar 26, 2013</td>\n",
       "    </tr>\n",
       "    <tr>\n",
       "      <th>4</th>\n",
       "      <td>94</td>\n",
       "      <td>BioShock Infinite</td>\n",
       "      <td>PC</td>\n",
       "      <td>8.6</td>\n",
       "      <td>Mar 25, 2013</td>\n",
       "    </tr>\n",
       "  </tbody>\n",
       "</table>\n",
       "</div>"
      ],
      "text/plain": [
       "   metascore                name console userscore          date\n",
       "0         97  Grand Theft Auto V     PS3       8.3  Sep 17, 2013\n",
       "1         97  Grand Theft Auto V    X360       8.3  Sep 17, 2013\n",
       "2         95      The Last of Us     PS3       9.2  Jun 14, 2013\n",
       "3         94   BioShock Infinite     PS3       8.5  Mar 26, 2013\n",
       "4         94   BioShock Infinite      PC       8.6  Mar 25, 2013"
      ]
     },
     "execution_count": 1,
     "metadata": {},
     "output_type": "execute_result"
    }
   ],
   "source": [
    "import pandas as pd\n",
    "import numpy as np\n",
    "import matplotlib.pyplot as plt\n",
    "\n",
    "%matplotlib inline\n",
    "\n",
    "# Data taken from here: https://www.kaggle.com/destring/metacritic-reviewed-games-since-2000\n",
    "meta_games = pd.read_csv('metacritic.csv')\n",
    "meta_games.head()"
   ]
  },
  {
   "cell_type": "code",
   "execution_count": 2,
   "metadata": {},
   "outputs": [
    {
     "name": "stdout",
     "output_type": "stream",
     "text": [
      "(15647, 5)\n"
     ]
    },
    {
     "data": {
      "text/plain": [
       "metascore     int64\n",
       "name         object\n",
       "console      object\n",
       "userscore    object\n",
       "date         object\n",
       "dtype: object"
      ]
     },
     "execution_count": 2,
     "metadata": {},
     "output_type": "execute_result"
    }
   ],
   "source": [
    "# Explore the data\n",
    "print(meta_games.shape)\n",
    "meta_games.dtypes"
   ]
  },
  {
   "cell_type": "code",
   "execution_count": 3,
   "metadata": {},
   "outputs": [
    {
     "data": {
      "text/plain": [
       "metascore             int64\n",
       "name                 object\n",
       "console              object\n",
       "userscore           float64\n",
       "date         datetime64[ns]\n",
       "dtype: object"
      ]
     },
     "execution_count": 3,
     "metadata": {},
     "output_type": "execute_result"
    }
   ],
   "source": [
    "# Convert userscore to float and date to datetime\n",
    "meta_games.date = pd.to_datetime(meta_games.date)\n",
    "meta_games.userscore = pd.to_numeric(meta_games.userscore, errors='coerce')\n",
    "meta_games.dtypes"
   ]
  },
  {
   "cell_type": "code",
   "execution_count": 4,
   "metadata": {},
   "outputs": [
    {
     "data": {
      "text/plain": [
       "<matplotlib.collections.PathCollection at 0x1079e8240>"
      ]
     },
     "execution_count": 4,
     "metadata": {},
     "output_type": "execute_result"
    },
    {
     "data": {
      "image/png": "[encoded data removed]",
      "text/plain": [
       "<Figure size 432x288 with 1 Axes>"
      ]
     },
     "metadata": {
      "needs_background": "light"
     },
     "output_type": "display_data"
    }
   ],
   "source": [
    "# Display relationship between Meta-Score and User-Score, with a Scatter Plot\n",
    "plt.xlabel('Metascore')\n",
    "plt.ylabel('Userscore')\n",
    "plt.title('Metascore vs Userscore')\n",
    "plt.scatter(x=meta_games.metascore, y=meta_games.userscore)"
   ]
  },
  {
   "cell_type": "code",
   "execution_count": 5,
   "metadata": {},
   "outputs": [
    {
     "data": {
      "text/plain": [
       "array(['PS3', 'X360', 'PC', 'WIIU', '3DS', 'PS4', 'VITA', 'XONE',\n",
       "       'Switch', 'WII', 'DS', 'PSP', 'PS2', 'XBOX', 'GBA', 'N64', 'DC',\n",
       "       'GC', 'PS', ' PC', ' VITA'], dtype=object)"
      ]
     },
     "execution_count": 5,
     "metadata": {},
     "output_type": "execute_result"
    }
   ],
   "source": [
    "# Explore unique categories for consoles\n",
    "meta_games.console.unique()"
   ]
  },
  {
   "cell_type": "code",
   "execution_count": 6,
   "metadata": {},
   "outputs": [
    {
     "data": {
      "text/plain": [
       "array(['PS3', 'X360', 'PC', 'WIIU', '3DS', 'PS4', 'VITA', 'XONE',\n",
       "       'Switch', 'WII', 'DS', 'PSP', 'PS2', 'XBOX', 'GBA', 'N64', 'DC',\n",
       "       'GC', 'PS', ' VITA'], dtype=object)"
      ]
     },
     "execution_count": 6,
     "metadata": {},
     "output_type": "execute_result"
    }
   ],
   "source": [
    "# Clean some console values\n",
    "meta_games.console = meta_games.console.str.replace(' PC', 'PC')\n",
    "meta_games.console.unique()"
   ]
  },
  {
   "cell_type": "code",
   "execution_count": 7,
   "metadata": {},
   "outputs": [
    {
     "data": {
      "text/plain": [
       "<matplotlib.axes._subplots.AxesSubplot at 0x107bc8be0>"
      ]
     },
     "execution_count": 7,
     "metadata": {},
     "output_type": "execute_result"
    },
    {
     "data": {
      "image/png": "[encoded data removed]",
      "text/plain": [
       "<Figure size 432x288 with 1 Axes>"
      ]
     },
     "metadata": {
      "needs_background": "light"
     },
     "output_type": "display_data"
    }
   ],
   "source": [
    "# Display total games reviewed by console, with a Bar Chart\n",
    "plt.xlabel('Console')\n",
    "plt.ylabel('Games Reviewed')\n",
    "plt.title('Number of Games Reviewed per Console')\n",
    "meta_games.console.value_counts().plot(kind='bar')                      "
   ]
  },
  {
   "cell_type": "code",
   "execution_count": 8,
   "metadata": {},
   "outputs": [
    {
     "data": {
      "text/html": [
       "<div>\n",
       "<style scoped>\n",
       "    .dataframe tbody tr th:only-of-type {\n",
       "        vertical-align: middle;\n",
       "    }\n",
       "\n",
       "    .dataframe tbody tr th {\n",
       "        vertical-align: top;\n",
       "    }\n",
       "\n",
       "    .dataframe thead th {\n",
       "        text-align: right;\n",
       "    }\n",
       "</style>\n",
       "<table border=\"1\" class=\"dataframe\">\n",
       "  <thead>\n",
       "    <tr style=\"text-align: right;\">\n",
       "      <th></th>\n",
       "      <th>metascore</th>\n",
       "      <th>name</th>\n",
       "      <th>console</th>\n",
       "      <th>userscore</th>\n",
       "      <th>date</th>\n",
       "      <th>ratio</th>\n",
       "    </tr>\n",
       "  </thead>\n",
       "  <tbody>\n",
       "    <tr>\n",
       "      <th>0</th>\n",
       "      <td>97</td>\n",
       "      <td>Grand Theft Auto V</td>\n",
       "      <td>PS3</td>\n",
       "      <td>8.3</td>\n",
       "      <td>2013-09-17</td>\n",
       "      <td>1.168675</td>\n",
       "    </tr>\n",
       "    <tr>\n",
       "      <th>1</th>\n",
       "      <td>97</td>\n",
       "      <td>Grand Theft Auto V</td>\n",
       "      <td>X360</td>\n",
       "      <td>8.3</td>\n",
       "      <td>2013-09-17</td>\n",
       "      <td>1.168675</td>\n",
       "    </tr>\n",
       "    <tr>\n",
       "      <th>2</th>\n",
       "      <td>95</td>\n",
       "      <td>The Last of Us</td>\n",
       "      <td>PS3</td>\n",
       "      <td>9.2</td>\n",
       "      <td>2013-06-14</td>\n",
       "      <td>1.032609</td>\n",
       "    </tr>\n",
       "    <tr>\n",
       "      <th>3</th>\n",
       "      <td>94</td>\n",
       "      <td>BioShock Infinite</td>\n",
       "      <td>PS3</td>\n",
       "      <td>8.5</td>\n",
       "      <td>2013-03-26</td>\n",
       "      <td>1.105882</td>\n",
       "    </tr>\n",
       "    <tr>\n",
       "      <th>4</th>\n",
       "      <td>94</td>\n",
       "      <td>BioShock Infinite</td>\n",
       "      <td>PC</td>\n",
       "      <td>8.6</td>\n",
       "      <td>2013-03-25</td>\n",
       "      <td>1.093023</td>\n",
       "    </tr>\n",
       "  </tbody>\n",
       "</table>\n",
       "</div>"
      ],
      "text/plain": [
       "   metascore                name console  userscore       date     ratio\n",
       "0         97  Grand Theft Auto V     PS3        8.3 2013-09-17  1.168675\n",
       "1         97  Grand Theft Auto V    X360        8.3 2013-09-17  1.168675\n",
       "2         95      The Last of Us     PS3        9.2 2013-06-14  1.032609\n",
       "3         94   BioShock Infinite     PS3        8.5 2013-03-26  1.105882\n",
       "4         94   BioShock Infinite      PC        8.6 2013-03-25  1.093023"
      ]
     },
     "execution_count": 8,
     "metadata": {},
     "output_type": "execute_result"
    }
   ],
   "source": [
    "# Create a new column for Meta-Score to User-Score ratio\n",
    "meta_games['ratio'] = meta_games.metascore / (meta_games.userscore * 10)\n",
    "meta_games.head()"
   ]
  },
  {
   "cell_type": "code",
   "execution_count": 9,
   "metadata": {},
   "outputs": [
    {
     "data": {
      "text/plain": [
       "<matplotlib.axes._subplots.AxesSubplot at 0x107bf1048>"
      ]
     },
     "execution_count": 9,
     "metadata": {},
     "output_type": "execute_result"
    },
    {
     "data": {
      "image/png": "[encoded data removed]",
      "text/plain": [
       "<Figure size 432x288 with 1 Axes>"
      ]
     },
     "metadata": {
      "needs_background": "light"
     },
     "output_type": "display_data"
    }
   ],
   "source": [
    "# Display distribution of games with ratio < 0.75, with a Box Plot\n",
    "plt.title('Distribution of Critic-to-User Score Ratio')\n",
    "plt.ylabel('Critic-to-User Score Ratio')\n",
    "meta_games[meta_games.ratio < 0.75].boxplot(column='ratio', figsize=(1,10))"
   ]
  },
  {
   "cell_type": "code",
   "execution_count": 10,
   "metadata": {},
   "outputs": [],
   "source": [
    "# Define \"underrated\" games as those with (0.5 < ratio < 0.75) AND (User-Score > 8.0)\n",
    "# These are games that have a HIGH user score but LOW critic score\n",
    "underrated = meta_games[(((meta_games.ratio > 0.5)&(meta_games.ratio < 0.75))&(meta_games.userscore > 8.0))]"
   ]
  },
  {
   "cell_type": "code",
   "execution_count": 11,
   "metadata": {},
   "outputs": [
    {
     "data": {
      "text/plain": [
       "<matplotlib.axes._subplots.AxesSubplot at 0x10701ae80>"
      ]
     },
     "execution_count": 11,
     "metadata": {},
     "output_type": "execute_result"
    },
    {
     "data": {
      "image/png": "[encoded data removed]",
      "text/plain": [
       "<Figure size 432x288 with 1 Axes>"
      ]
     },
     "metadata": {
      "needs_background": "light"
     },
     "output_type": "display_data"
    }
   ],
   "source": [
    "# Display distribution of \"underrated\" games by ratio, with a Histogram\n",
    "plt.xlabel('Critic-to-User Score Ratio')\n",
    "plt.ylabel('Number of Games')\n",
    "plt.title('Number of Games by Ratio')\n",
    "underrated.ratio.hist(bins=10)"
   ]
  },
  {
   "cell_type": "code",
   "execution_count": 12,
   "metadata": {},
   "outputs": [
    {
     "data": {
      "text/html": [
       "<div>\n",
       "<style scoped>\n",
       "    .dataframe tbody tr th:only-of-type {\n",
       "        vertical-align: middle;\n",
       "    }\n",
       "\n",
       "    .dataframe tbody tr th {\n",
       "        vertical-align: top;\n",
       "    }\n",
       "\n",
       "    .dataframe thead th {\n",
       "        text-align: right;\n",
       "    }\n",
       "</style>\n",
       "<table border=\"1\" class=\"dataframe\">\n",
       "  <thead>\n",
       "    <tr style=\"text-align: right;\">\n",
       "      <th></th>\n",
       "      <th>index</th>\n",
       "      <th>metascore</th>\n",
       "      <th>name</th>\n",
       "      <th>console</th>\n",
       "      <th>userscore</th>\n",
       "      <th>date</th>\n",
       "      <th>ratio</th>\n",
       "    </tr>\n",
       "  </thead>\n",
       "  <tbody>\n",
       "    <tr>\n",
       "      <th>0</th>\n",
       "      <td>14163</td>\n",
       "      <td>47</td>\n",
       "      <td>Tom Clancy's HAWX 2</td>\n",
       "      <td>WII</td>\n",
       "      <td>8.5</td>\n",
       "      <td>2010-11-09</td>\n",
       "      <td>0.552941</td>\n",
       "    </tr>\n",
       "    <tr>\n",
       "      <th>1</th>\n",
       "      <td>14176</td>\n",
       "      <td>46</td>\n",
       "      <td>Starpoint Gemini</td>\n",
       "      <td>PC</td>\n",
       "      <td>8.3</td>\n",
       "      <td>2010-12-15</td>\n",
       "      <td>0.554217</td>\n",
       "    </tr>\n",
       "    <tr>\n",
       "      <th>2</th>\n",
       "      <td>14411</td>\n",
       "      <td>48</td>\n",
       "      <td>Otomedius Excellent</td>\n",
       "      <td>X360</td>\n",
       "      <td>8.1</td>\n",
       "      <td>2011-11-01</td>\n",
       "      <td>0.592593</td>\n",
       "    </tr>\n",
       "    <tr>\n",
       "      <th>3</th>\n",
       "      <td>14143</td>\n",
       "      <td>51</td>\n",
       "      <td>Racquet Sports</td>\n",
       "      <td>WII</td>\n",
       "      <td>8.6</td>\n",
       "      <td>2010-03-09</td>\n",
       "      <td>0.593023</td>\n",
       "    </tr>\n",
       "    <tr>\n",
       "      <th>4</th>\n",
       "      <td>13381</td>\n",
       "      <td>51</td>\n",
       "      <td>Immortal: Unchained</td>\n",
       "      <td>XONE</td>\n",
       "      <td>8.2</td>\n",
       "      <td>2018-09-07</td>\n",
       "      <td>0.621951</td>\n",
       "    </tr>\n",
       "    <tr>\n",
       "      <th>5</th>\n",
       "      <td>14139</td>\n",
       "      <td>52</td>\n",
       "      <td>TerRover</td>\n",
       "      <td>PS3</td>\n",
       "      <td>8.3</td>\n",
       "      <td>2010-09-07</td>\n",
       "      <td>0.626506</td>\n",
       "    </tr>\n",
       "    <tr>\n",
       "      <th>6</th>\n",
       "      <td>13277</td>\n",
       "      <td>54</td>\n",
       "      <td>I Heart Geeks!</td>\n",
       "      <td>DS</td>\n",
       "      <td>8.4</td>\n",
       "      <td>2011-12-20</td>\n",
       "      <td>0.642857</td>\n",
       "    </tr>\n",
       "    <tr>\n",
       "      <th>7</th>\n",
       "      <td>14130</td>\n",
       "      <td>53</td>\n",
       "      <td>Namco Museum Megamix</td>\n",
       "      <td>WII</td>\n",
       "      <td>8.2</td>\n",
       "      <td>2010-11-16</td>\n",
       "      <td>0.646341</td>\n",
       "    </tr>\n",
       "    <tr>\n",
       "      <th>8</th>\n",
       "      <td>14133</td>\n",
       "      <td>53</td>\n",
       "      <td>Toribash: Violence Perfected</td>\n",
       "      <td>WII</td>\n",
       "      <td>8.1</td>\n",
       "      <td>2010-07-12</td>\n",
       "      <td>0.654321</td>\n",
       "    </tr>\n",
       "    <tr>\n",
       "      <th>9</th>\n",
       "      <td>11173</td>\n",
       "      <td>56</td>\n",
       "      <td>Leisure Suit Larry: Reloaded</td>\n",
       "      <td>PC</td>\n",
       "      <td>8.3</td>\n",
       "      <td>2013-06-27</td>\n",
       "      <td>0.674699</td>\n",
       "    </tr>\n",
       "    <tr>\n",
       "      <th>10</th>\n",
       "      <td>14112</td>\n",
       "      <td>56</td>\n",
       "      <td>Michael Jackson The Experience</td>\n",
       "      <td>WII</td>\n",
       "      <td>8.3</td>\n",
       "      <td>2010-11-23</td>\n",
       "      <td>0.674699</td>\n",
       "    </tr>\n",
       "    <tr>\n",
       "      <th>11</th>\n",
       "      <td>13268</td>\n",
       "      <td>55</td>\n",
       "      <td>Rune Factory: Tides of Destiny</td>\n",
       "      <td>PS3</td>\n",
       "      <td>8.1</td>\n",
       "      <td>2011-10-07</td>\n",
       "      <td>0.679012</td>\n",
       "    </tr>\n",
       "    <tr>\n",
       "      <th>12</th>\n",
       "      <td>14102</td>\n",
       "      <td>56</td>\n",
       "      <td>Data East Arcade Classics</td>\n",
       "      <td>WII</td>\n",
       "      <td>8.2</td>\n",
       "      <td>2010-02-19</td>\n",
       "      <td>0.682927</td>\n",
       "    </tr>\n",
       "    <tr>\n",
       "      <th>13</th>\n",
       "      <td>11169</td>\n",
       "      <td>57</td>\n",
       "      <td>Knock-knock</td>\n",
       "      <td>PC</td>\n",
       "      <td>8.3</td>\n",
       "      <td>2013-10-04</td>\n",
       "      <td>0.686747</td>\n",
       "    </tr>\n",
       "    <tr>\n",
       "      <th>14</th>\n",
       "      <td>13593</td>\n",
       "      <td>58</td>\n",
       "      <td>Time Machine VR</td>\n",
       "      <td>PC</td>\n",
       "      <td>8.4</td>\n",
       "      <td>2016-05-19</td>\n",
       "      <td>0.690476</td>\n",
       "    </tr>\n",
       "    <tr>\n",
       "      <th>15</th>\n",
       "      <td>14085</td>\n",
       "      <td>58</td>\n",
       "      <td>Blaster Master: Overdrive</td>\n",
       "      <td>WII</td>\n",
       "      <td>8.4</td>\n",
       "      <td>2010-02-08</td>\n",
       "      <td>0.690476</td>\n",
       "    </tr>\n",
       "    <tr>\n",
       "      <th>16</th>\n",
       "      <td>14087</td>\n",
       "      <td>58</td>\n",
       "      <td>The Lord of the Rings: Aragorn's Quest</td>\n",
       "      <td>WII</td>\n",
       "      <td>8.3</td>\n",
       "      <td>2010-09-14</td>\n",
       "      <td>0.698795</td>\n",
       "    </tr>\n",
       "    <tr>\n",
       "      <th>17</th>\n",
       "      <td>11790</td>\n",
       "      <td>63</td>\n",
       "      <td>Dragon Ball Z: Tenkaichi Tag Team</td>\n",
       "      <td>PSP</td>\n",
       "      <td>8.8</td>\n",
       "      <td>2010-10-19</td>\n",
       "      <td>0.715909</td>\n",
       "    </tr>\n",
       "    <tr>\n",
       "      <th>18</th>\n",
       "      <td>11775</td>\n",
       "      <td>58</td>\n",
       "      <td>Fate/Extra</td>\n",
       "      <td>PSP</td>\n",
       "      <td>8.1</td>\n",
       "      <td>2011-11-01</td>\n",
       "      <td>0.716049</td>\n",
       "    </tr>\n",
       "    <tr>\n",
       "      <th>19</th>\n",
       "      <td>12885</td>\n",
       "      <td>60</td>\n",
       "      <td>Toy Soldiers: War Chest</td>\n",
       "      <td>XONE</td>\n",
       "      <td>8.3</td>\n",
       "      <td>2015-08-11</td>\n",
       "      <td>0.722892</td>\n",
       "    </tr>\n",
       "    <tr>\n",
       "      <th>20</th>\n",
       "      <td>11780</td>\n",
       "      <td>63</td>\n",
       "      <td>Matt Hazard: Blood Bath and Beyond</td>\n",
       "      <td>X360</td>\n",
       "      <td>8.7</td>\n",
       "      <td>2010-01-06</td>\n",
       "      <td>0.724138</td>\n",
       "    </tr>\n",
       "    <tr>\n",
       "      <th>21</th>\n",
       "      <td>15247</td>\n",
       "      <td>62</td>\n",
       "      <td>Monster of the Deep: Final Fantasy XV</td>\n",
       "      <td>PS4</td>\n",
       "      <td>8.5</td>\n",
       "      <td>2017-11-21</td>\n",
       "      <td>0.729412</td>\n",
       "    </tr>\n",
       "    <tr>\n",
       "      <th>22</th>\n",
       "      <td>11697</td>\n",
       "      <td>63</td>\n",
       "      <td>Ys I &amp; II Chronicles</td>\n",
       "      <td>PSP</td>\n",
       "      <td>8.5</td>\n",
       "      <td>2011-02-21</td>\n",
       "      <td>0.741176</td>\n",
       "    </tr>\n",
       "    <tr>\n",
       "      <th>23</th>\n",
       "      <td>11282</td>\n",
       "      <td>63</td>\n",
       "      <td>Dragon Ball Z Budokai HD Collection</td>\n",
       "      <td>X360</td>\n",
       "      <td>8.5</td>\n",
       "      <td>2012-11-06</td>\n",
       "      <td>0.741176</td>\n",
       "    </tr>\n",
       "    <tr>\n",
       "      <th>24</th>\n",
       "      <td>11967</td>\n",
       "      <td>61</td>\n",
       "      <td>Aqua</td>\n",
       "      <td>X360</td>\n",
       "      <td>8.2</td>\n",
       "      <td>2010-05-19</td>\n",
       "      <td>0.743902</td>\n",
       "    </tr>\n",
       "  </tbody>\n",
       "</table>\n",
       "</div>"
      ],
      "text/plain": [
       "    index  metascore                                    name console  \\\n",
       "0   14163         47                     Tom Clancy's HAWX 2     WII   \n",
       "1   14176         46                        Starpoint Gemini      PC   \n",
       "2   14411         48                     Otomedius Excellent    X360   \n",
       "3   14143         51                          Racquet Sports     WII   \n",
       "4   13381         51                     Immortal: Unchained    XONE   \n",
       "5   14139         52                                TerRover     PS3   \n",
       "6   13277         54                          I Heart Geeks!      DS   \n",
       "7   14130         53                    Namco Museum Megamix     WII   \n",
       "8   14133         53            Toribash: Violence Perfected     WII   \n",
       "9   11173         56            Leisure Suit Larry: Reloaded      PC   \n",
       "10  14112         56          Michael Jackson The Experience     WII   \n",
       "11  13268         55          Rune Factory: Tides of Destiny     PS3   \n",
       "12  14102         56               Data East Arcade Classics     WII   \n",
       "13  11169         57                             Knock-knock      PC   \n",
       "14  13593         58                         Time Machine VR      PC   \n",
       "15  14085         58               Blaster Master: Overdrive     WII   \n",
       "16  14087         58  The Lord of the Rings: Aragorn's Quest     WII   \n",
       "17  11790         63       Dragon Ball Z: Tenkaichi Tag Team     PSP   \n",
       "18  11775         58                              Fate/Extra     PSP   \n",
       "19  12885         60                 Toy Soldiers: War Chest    XONE   \n",
       "20  11780         63      Matt Hazard: Blood Bath and Beyond    X360   \n",
       "21  15247         62   Monster of the Deep: Final Fantasy XV     PS4   \n",
       "22  11697         63                    Ys I & II Chronicles     PSP   \n",
       "23  11282         63     Dragon Ball Z Budokai HD Collection    X360   \n",
       "24  11967         61                                    Aqua    X360   \n",
       "\n",
       "    userscore       date     ratio  \n",
       "0         8.5 2010-11-09  0.552941  \n",
       "1         8.3 2010-12-15  0.554217  \n",
       "2         8.1 2011-11-01  0.592593  \n",
       "3         8.6 2010-03-09  0.593023  \n",
       "4         8.2 2018-09-07  0.621951  \n",
       "5         8.3 2010-09-07  0.626506  \n",
       "6         8.4 2011-12-20  0.642857  \n",
       "7         8.2 2010-11-16  0.646341  \n",
       "8         8.1 2010-07-12  0.654321  \n",
       "9         8.3 2013-06-27  0.674699  \n",
       "10        8.3 2010-11-23  0.674699  \n",
       "11        8.1 2011-10-07  0.679012  \n",
       "12        8.2 2010-02-19  0.682927  \n",
       "13        8.3 2013-10-04  0.686747  \n",
       "14        8.4 2016-05-19  0.690476  \n",
       "15        8.4 2010-02-08  0.690476  \n",
       "16        8.3 2010-09-14  0.698795  \n",
       "17        8.8 2010-10-19  0.715909  \n",
       "18        8.1 2011-11-01  0.716049  \n",
       "19        8.3 2015-08-11  0.722892  \n",
       "20        8.7 2010-01-06  0.724138  \n",
       "21        8.5 2017-11-21  0.729412  \n",
       "22        8.5 2011-02-21  0.741176  \n",
       "23        8.5 2012-11-06  0.741176  \n",
       "24        8.2 2010-05-19  0.743902  "
      ]
     },
     "execution_count": 12,
     "metadata": {},
     "output_type": "execute_result"
    }
   ],
   "source": [
    "# Explore underrated games released in the last 10 years\n",
    "underrated[underrated.date.dt.year > 2009].sort_values(by='ratio').reset_index()"
   ]
  },
  {
   "cell_type": "code",
   "execution_count": 13,
   "metadata": {},
   "outputs": [
    {
     "data": {
      "text/plain": [
       "<matplotlib.axes._subplots.AxesSubplot at 0x106fbbba8>"
      ]
     },
     "execution_count": 13,
     "metadata": {},
     "output_type": "execute_result"
    },
    {
     "data": {
      "image/png": "[encoded data removed]",
      "text/plain": [
       "<Figure size 432x288 with 1 Axes>"
      ]
     },
     "metadata": {
      "needs_background": "light"
     },
     "output_type": "display_data"
    }
   ],
   "source": [
    "# Display distribution of underrated games released in the last 10 years by console, with a Bar-Chart\n",
    "plt.xlabel('Console')\n",
    "plt.ylabel('Number of Games')\n",
    "plt.title('Underrated Games by Console, since 2009')\n",
    "underrated[underrated.date.dt.year > 2009].console.value_counts().plot(kind='bar') "
   ]
  },
  {
   "cell_type": "code",
   "execution_count": 14,
   "metadata": {},
   "outputs": [
    {
     "data": {
      "text/html": [
       "        <script type=\"text/javascript\">\n",
       "        window.PlotlyConfig = {MathJaxConfig: 'local'};\n",
       "        if (window.MathJax) {MathJax.Hub.Config({SVG: {font: \"STIX-Web\"}});}\n",
       "        if (typeof require !== 'undefined') {\n",
       "        require.undef(\"plotly\");\n",
       "        requirejs.config({\n",
       "            paths: {\n",
       "                'plotly': ['https://cdn.plot.ly/plotly-latest.min']\n",
       "            }\n",
       "        });\n",
       "        require(['plotly'], function(Plotly) {\n",
       "            window._Plotly = Plotly;\n",
       "        });\n",
       "        }\n",
       "        </script>\n",
       "        "
      ]
     },
     "metadata": {},
     "output_type": "display_data"
    },
    {
     "data": {
      "application/vnd.plotly.v1+json": {
       "config": {
        "linkText": "Export to plot.ly",
        "plotlyServerURL": "https://plot.ly",
        "showLink": true
       },
       "data": [
        {
         "name": "Meta-Score",
         "type": "bar",
         "uid": "07efcb29-43be-4e4c-98e8-bfe72796a337",
         "x": [
          "Grand Theft Auto V",
          "Grand Theft Auto V",
          "The Last of Us",
          "Grand Theft Auto V",
          "Grand Theft Auto V",
          "The Last of Us Remastered",
          "Red Dead Redemption 2",
          "Red Dead Redemption 2",
          "Batman: Arkham City",
          "The Elder Scrolls V: Skyrim",
          "Portal 2",
          "Portal 2",
          "Portal 2",
          "The Legend of Zelda: Breath of the Wild",
          "Super Mario Odyssey",
          "The Legend of Zelda: Breath of the Wild",
          "Grand Theft Auto V",
          "Metal Gear Solid V: The Phantom Pain",
          "Super Mario Galaxy 2",
          "Mass Effect 2",
          "Red Dead Redemption",
          "Red Dead Redemption",
          "Uncharted 2: Among Thieves",
          "Tony Hawk's Pro Skater 3",
          "Grand Theft Auto III",
          "Halo: Combat Evolved",
          "Metal Gear Solid 2: Sons of Liberty",
          "Gran Turismo 3: A-Spec",
          "Tony Hawk's Pro Skater 2",
          "The Legend of Zelda: Twilight Princess",
          "The Legend of Zelda: Twilight Princess",
          "Super Mario Galaxy",
          "BioShock",
          "The Orange Box",
          "The Orange Box",
          "BioShock",
          "Grand Theft Auto IV",
          "Grand Theft Auto IV",
          "LittleBigPlanet",
          "Tony Hawk's Pro Skater 2",
          "Tony Hawk's Pro Skater 2",
          "Perfect Dark",
          "NFL 2K1",
          "Baldur's Gate II: Shadows of Amn",
          "The Legend of Zelda: Majora's Mask",
          "Half-Life 2",
          "Grand Theft Auto: San Andreas",
          "Halo 2",
          "The Legend of Zelda: The Wind Waker",
          "Grand Theft Auto Double Pack",
          "The Legend of Zelda Collector's Edition",
          "Resident Evil 4",
          "Resident Evil 4",
          "Metroid Prime",
          "Grand Theft Auto: Vice City",
          "The Legend of Zelda: A Link to the Past",
          "Madden NFL 2003"
         ],
         "y": [
          97,
          97,
          95,
          97,
          97,
          95,
          98,
          97,
          96,
          96,
          95,
          95,
          95,
          97,
          97,
          96,
          96,
          95,
          97,
          96,
          95,
          95,
          96,
          97,
          97,
          97,
          96,
          95,
          95,
          96,
          95,
          97,
          96,
          96,
          96,
          96,
          98,
          98,
          95,
          98,
          97,
          97,
          97,
          95,
          95,
          96,
          95,
          95,
          96,
          96,
          95,
          96,
          96,
          97,
          95,
          95,
          95
         ]
        },
        {
         "name": "User-Score",
         "type": "bar",
         "uid": "6b54106b-ffee-4030-b4f3-43805b209c98",
         "x": [
          "Grand Theft Auto V",
          "Grand Theft Auto V",
          "The Last of Us",
          "Grand Theft Auto V",
          "Grand Theft Auto V",
          "The Last of Us Remastered",
          "Red Dead Redemption 2",
          "Red Dead Redemption 2",
          "Batman: Arkham City",
          "The Elder Scrolls V: Skyrim",
          "Portal 2",
          "Portal 2",
          "Portal 2",
          "The Legend of Zelda: Breath of the Wild",
          "Super Mario Odyssey",
          "The Legend of Zelda: Breath of the Wild",
          "Grand Theft Auto V",
          "Metal Gear Solid V: The Phantom Pain",
          "Super Mario Galaxy 2",
          "Mass Effect 2",
          "Red Dead Redemption",
          "Red Dead Redemption",
          "Uncharted 2: Among Thieves",
          "Tony Hawk's Pro Skater 3",
          "Grand Theft Auto III",
          "Halo: Combat Evolved",
          "Metal Gear Solid 2: Sons of Liberty",
          "Gran Turismo 3: A-Spec",
          "Tony Hawk's Pro Skater 2",
          "The Legend of Zelda: Twilight Princess",
          "The Legend of Zelda: Twilight Princess",
          "Super Mario Galaxy",
          "BioShock",
          "The Orange Box",
          "The Orange Box",
          "BioShock",
          "Grand Theft Auto IV",
          "Grand Theft Auto IV",
          "LittleBigPlanet",
          "Tony Hawk's Pro Skater 2",
          "Tony Hawk's Pro Skater 2",
          "Perfect Dark",
          "NFL 2K1",
          "Baldur's Gate II: Shadows of Amn",
          "The Legend of Zelda: Majora's Mask",
          "Half-Life 2",
          "Grand Theft Auto: San Andreas",
          "Halo 2",
          "The Legend of Zelda: The Wind Waker",
          "Grand Theft Auto Double Pack",
          "The Legend of Zelda Collector's Edition",
          "Resident Evil 4",
          "Resident Evil 4",
          "Metroid Prime",
          "Grand Theft Auto: Vice City",
          "The Legend of Zelda: A Link to the Past",
          "Madden NFL 2003"
         ],
         "y": [
          83,
          83,
          92,
          78,
          83,
          91,
          59,
          77,
          87,
          85,
          90,
          87,
          85,
          85,
          89,
          82,
          77,
          74,
          91,
          89,
          89,
          90,
          89,
          75,
          85,
          86,
          88,
          84,
          71,
          89,
          90,
          90,
          89,
          88,
          92,
          85,
          75,
          79,
          68,
          74,
          62,
          89,
          64,
          92,
          91,
          91,
          90,
          82,
          89,
          80,
          90,
          93,
          90,
          92,
          88,
          89,
          74
         ]
        }
       ],
       "layout": {
        "barmode": "group",
        "title": {
         "text": "Metascore vs Userscore for Highest-Rated Games"
        }
       }
      },
      "text/html": [
       "<div>\n",
       "        \n",
       "        \n",
       "            <div id=\"e3448929-cc36-48d1-8bee-47d8a1836043\" class=\"plotly-graph-div\" style=\"height:525px; width:100%;\"></div>\n",
       "            <script type=\"text/javascript\">\n",
       "                require([\"plotly\"], function(Plotly) {\n",
       "                    window.PLOTLYENV=window.PLOTLYENV || {};\n",
       "                    window.PLOTLYENV.BASE_URL='https://plot.ly';\n",
       "                    \n",
       "                if (document.getElementById(\"e3448929-cc36-48d1-8bee-47d8a1836043\")) {\n",
       "                    Plotly.newPlot(\n",
       "                        'e3448929-cc36-48d1-8bee-47d8a1836043',\n",
       "                        [{\"name\": \"Meta-Score\", \"type\": \"bar\", \"uid\": \"07efcb29-43be-4e4c-98e8-bfe72796a337\", \"x\": [\"Grand Theft Auto V\", \"Grand Theft Auto V\", \"The Last of Us\", \"Grand Theft Auto V\", \"Grand Theft Auto V\", \"The Last of Us Remastered\", \"Red Dead Redemption 2\", \"Red Dead Redemption 2\", \"Batman: Arkham City\", \"The Elder Scrolls V: Skyrim\", \"Portal 2\", \"Portal 2\", \"Portal 2\", \"The Legend of Zelda: Breath of the Wild\", \"Super Mario Odyssey\", \"The Legend of Zelda: Breath of the Wild\", \"Grand Theft Auto V\", \"Metal Gear Solid V: The Phantom Pain\", \"Super Mario Galaxy 2\", \"Mass Effect 2\", \"Red Dead Redemption\", \"Red Dead Redemption\", \"Uncharted 2: Among Thieves\", \"Tony Hawk's Pro Skater 3\", \"Grand Theft Auto III\", \"Halo: Combat Evolved\", \"Metal Gear Solid 2: Sons of Liberty\", \"Gran Turismo 3: A-Spec\", \"Tony Hawk's Pro Skater 2\", \"The Legend of Zelda: Twilight Princess\", \"The Legend of Zelda: Twilight Princess\", \"Super Mario Galaxy\", \"BioShock\", \"The Orange Box\", \"The Orange Box\", \"BioShock\", \"Grand Theft Auto IV\", \"Grand Theft Auto IV\", \"LittleBigPlanet\", \"Tony Hawk's Pro Skater 2\", \"Tony Hawk's Pro Skater 2\", \"Perfect Dark\", \"NFL 2K1\", \"Baldur's Gate II: Shadows of Amn\", \"The Legend of Zelda: Majora's Mask\", \"Half-Life 2\", \"Grand Theft Auto: San Andreas\", \"Halo 2\", \"The Legend of Zelda: The Wind Waker\", \"Grand Theft Auto Double Pack\", \"The Legend of Zelda Collector's Edition\", \"Resident Evil 4\", \"Resident Evil 4\", \"Metroid Prime\", \"Grand Theft Auto: Vice City\", \"The Legend of Zelda: A Link to the Past\", \"Madden NFL 2003\"], \"y\": [97, 97, 95, 97, 97, 95, 98, 97, 96, 96, 95, 95, 95, 97, 97, 96, 96, 95, 97, 96, 95, 95, 96, 97, 97, 97, 96, 95, 95, 96, 95, 97, 96, 96, 96, 96, 98, 98, 95, 98, 97, 97, 97, 95, 95, 96, 95, 95, 96, 96, 95, 96, 96, 97, 95, 95, 95]}, {\"name\": \"User-Score\", \"type\": \"bar\", \"uid\": \"6b54106b-ffee-4030-b4f3-43805b209c98\", \"x\": [\"Grand Theft Auto V\", \"Grand Theft Auto V\", \"The Last of Us\", \"Grand Theft Auto V\", \"Grand Theft Auto V\", \"The Last of Us Remastered\", \"Red Dead Redemption 2\", \"Red Dead Redemption 2\", \"Batman: Arkham City\", \"The Elder Scrolls V: Skyrim\", \"Portal 2\", \"Portal 2\", \"Portal 2\", \"The Legend of Zelda: Breath of the Wild\", \"Super Mario Odyssey\", \"The Legend of Zelda: Breath of the Wild\", \"Grand Theft Auto V\", \"Metal Gear Solid V: The Phantom Pain\", \"Super Mario Galaxy 2\", \"Mass Effect 2\", \"Red Dead Redemption\", \"Red Dead Redemption\", \"Uncharted 2: Among Thieves\", \"Tony Hawk's Pro Skater 3\", \"Grand Theft Auto III\", \"Halo: Combat Evolved\", \"Metal Gear Solid 2: Sons of Liberty\", \"Gran Turismo 3: A-Spec\", \"Tony Hawk's Pro Skater 2\", \"The Legend of Zelda: Twilight Princess\", \"The Legend of Zelda: Twilight Princess\", \"Super Mario Galaxy\", \"BioShock\", \"The Orange Box\", \"The Orange Box\", \"BioShock\", \"Grand Theft Auto IV\", \"Grand Theft Auto IV\", \"LittleBigPlanet\", \"Tony Hawk's Pro Skater 2\", \"Tony Hawk's Pro Skater 2\", \"Perfect Dark\", \"NFL 2K1\", \"Baldur's Gate II: Shadows of Amn\", \"The Legend of Zelda: Majora's Mask\", \"Half-Life 2\", \"Grand Theft Auto: San Andreas\", \"Halo 2\", \"The Legend of Zelda: The Wind Waker\", \"Grand Theft Auto Double Pack\", \"The Legend of Zelda Collector's Edition\", \"Resident Evil 4\", \"Resident Evil 4\", \"Metroid Prime\", \"Grand Theft Auto: Vice City\", \"The Legend of Zelda: A Link to the Past\", \"Madden NFL 2003\"], \"y\": [83.0, 83.0, 92.0, 78.0, 83.0, 91.0, 59.0, 77.0, 87.0, 85.0, 90.0, 87.0, 85.0, 85.0, 89.0, 82.0, 77.0, 74.0, 91.0, 89.0, 89.0, 90.0, 89.0, 75.0, 85.0, 86.0, 88.0, 84.0, 71.0, 89.0, 90.0, 90.0, 89.0, 88.0, 92.0, 85.0, 75.0, 79.0, 68.0, 74.0, 62.0, 89.0, 64.0, 92.0, 91.0, 91.0, 90.0, 82.0, 89.0, 80.0, 90.0, 93.0, 90.0, 92.0, 88.0, 89.0, 74.0]}],\n",
       "                        {\"barmode\": \"group\", \"title\": {\"text\": \"Metascore vs Userscore for Highest-Rated Games\"}},\n",
       "                        {\"showLink\": true, \"linkText\": \"Export to plot.ly\", \"plotlyServerURL\": \"https://plot.ly\", \"responsive\": true}\n",
       "                    ).then(function(){\n",
       "                            \n",
       "var gd = document.getElementById('e3448929-cc36-48d1-8bee-47d8a1836043');\n",
       "var x = new MutationObserver(function (mutations, observer) {{\n",
       "        var display = window.getComputedStyle(gd).display;\n",
       "        if (!display || display === 'none') {{\n",
       "            console.log([gd, 'removed!']);\n",
       "            Plotly.purge(gd);\n",
       "            observer.disconnect();\n",
       "        }}\n",
       "}});\n",
       "\n",
       "// Listen for the removal of the full notebook cells\n",
       "var notebookContainer = gd.closest('#notebook-container');\n",
       "if (notebookContainer) {{\n",
       "    x.observe(notebookContainer, {childList: true});\n",
       "}}\n",
       "\n",
       "// Listen for the clearing of the current output cell\n",
       "var outputEl = gd.closest('.output');\n",
       "if (outputEl) {{\n",
       "    x.observe(outputEl, {childList: true});\n",
       "}}\n",
       "\n",
       "                        })\n",
       "                };\n",
       "                });\n",
       "            </script>\n",
       "        </div>"
      ]
     },
     "metadata": {},
     "output_type": "display_data"
    }
   ],
   "source": [
    "import plotly.plotly as py\n",
    "import cufflinks as cf\n",
    "\n",
    "cf.go_offline()\n",
    "\n",
    "# Display Meta-Score vs User-Score for the highest rated games (Metacritic > 94)\n",
    "\n",
    "high_scores = meta_games[meta_games.metascore > 94]\n",
    "\n",
    "trace1 = cf.Bar(\n",
    "    x=high_scores.name,\n",
    "    y=high_scores.metascore,\n",
    "    name='Meta-Score'\n",
    ")\n",
    "trace2 = cf.Bar(\n",
    "    x=high_scores.name,\n",
    "    y=(high_scores.userscore * 10),\n",
    "    name='User-Score'\n",
    ")\n",
    "\n",
    "layout = cf.Layout(\n",
    "    barmode='group',\n",
    "    title='Metascore vs Userscore for Highest-Rated Games'\n",
    ")\n",
    "\n",
    "fig = cf.Figure(data=[trace1,trace2], layout=layout)\n",
    "cf.iplot(fig)"
   ]
  },
  {
   "cell_type": "code",
   "execution_count": null,
   "metadata": {},
   "outputs": [],
   "source": []
  }
 ],
 "metadata": {
  "kernelspec": {
   "display_name": "Python 3",
   "language": "python",
   "name": "python3"
  },
  "language_info": {
   "codemirror_mode": {
    "name": "ipython",
    "version": 3
   },
   "file_extension": ".py",
   "mimetype": "text/x-python",
   "name": "python",
   "nbconvert_exporter": "python",
   "pygments_lexer": "ipython3",
   "version": "3.7.3"
  }
 },
 "nbformat": 4,
 "nbformat_minor": 2
}
